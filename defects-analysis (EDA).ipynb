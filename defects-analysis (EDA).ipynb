{
 "cells": [
  {
   "cell_type": "markdown",
   "id": "af31f331",
   "metadata": {
    "papermill": {
     "duration": 0.006768,
     "end_time": "2025-10-08T06:46:35.974117",
     "exception": false,
     "start_time": "2025-10-08T06:46:35.967349",
     "status": "completed"
    },
    "tags": []
   },
   "source": [
    "# Defect Trends & Root Cause Analysis\n",
    "**Objective:** Analyze defect trends, identify root causes, and provide actionable recommendations to reduce defects and repair costs.\n"
   ]
  },
  {
   "cell_type": "code",
   "execution_count": 1,
   "id": "7b544fb6",
   "metadata": {
    "_cell_guid": "b1076dfc-b9ad-4769-8c92-a6c4dae69d19",
    "_uuid": "8f2839f25d086af736a60e9eeb907d3b93b6e0e5",
    "execution": {
     "iopub.execute_input": "2025-10-08T06:46:35.987166Z",
     "iopub.status.busy": "2025-10-08T06:46:35.986777Z",
     "iopub.status.idle": "2025-10-08T06:46:39.960025Z",
     "shell.execute_reply": "2025-10-08T06:46:39.958830Z"
    },
    "papermill": {
     "duration": 3.981637,
     "end_time": "2025-10-08T06:46:39.961650",
     "exception": false,
     "start_time": "2025-10-08T06:46:35.980013",
     "status": "completed"
    },
    "tags": []
   },
   "outputs": [
    {
     "name": "stdout",
     "output_type": "stream",
     "text": [
      "Path to dataset files: /kaggle/input/manufacturing-defects\n"
     ]
    }
   ],
   "source": [
    "# This Python 3 environment comes with many helpful analytics libraries installed\n",
    "# It is defined by the kaggle/python Docker image: https://github.com/kaggle/docker-python\n",
    "# For example, here's several helpful packages to load\n",
    "\n",
    "import numpy as np # linear algebra\n",
    "import pandas as pd # data processing, CSV file I/O (e.g. pd.read_csv)\n",
    "import matplotlib.pyplot as plt\n",
    "import seaborn as sns\n",
    "# Input data files are available in the read-only \"../input/\" directory\n",
    "# For example, running this (by clicking run or pressing Shift+Enter) will list all files under the input directory\n",
    "import kagglehub\n",
    "\n",
    "# Download latest version\n",
    "path = kagglehub.dataset_download(\"fahmidachowdhury/manufacturing-defects\")\n",
    "\n",
    "print(\"Path to dataset files:\", path)\n",
    "\n",
    "# You can write up to 20GB to the current directory (/kaggle/working/) that gets preserved as output when you create a version using \"Save & Run All\" \n",
    "# You can also write temporary files to /kaggle/temp/, but they won't be saved outside of the current session"
   ]
  },
  {
   "cell_type": "markdown",
   "id": "0f71f9fe",
   "metadata": {
    "papermill": {
     "duration": 0.005576,
     "end_time": "2025-10-08T06:46:39.973514",
     "exception": false,
     "start_time": "2025-10-08T06:46:39.967938",
     "status": "completed"
    },
    "tags": []
   },
   "source": [
    "## Step 1: Data Loading & Cleaning"
   ]
  },
  {
   "cell_type": "code",
   "execution_count": 2,
   "id": "b7ce0546",
   "metadata": {
    "execution": {
     "iopub.execute_input": "2025-10-08T06:46:39.987067Z",
     "iopub.status.busy": "2025-10-08T06:46:39.986584Z",
     "iopub.status.idle": "2025-10-08T06:46:40.031715Z",
     "shell.execute_reply": "2025-10-08T06:46:40.030841Z"
    },
    "papermill": {
     "duration": 0.053766,
     "end_time": "2025-10-08T06:46:40.033309",
     "exception": false,
     "start_time": "2025-10-08T06:46:39.979543",
     "status": "completed"
    },
    "tags": []
   },
   "outputs": [
    {
     "data": {
      "text/html": [
       "<div>\n",
       "<style scoped>\n",
       "    .dataframe tbody tr th:only-of-type {\n",
       "        vertical-align: middle;\n",
       "    }\n",
       "\n",
       "    .dataframe tbody tr th {\n",
       "        vertical-align: top;\n",
       "    }\n",
       "\n",
       "    .dataframe thead th {\n",
       "        text-align: right;\n",
       "    }\n",
       "</style>\n",
       "<table border=\"1\" class=\"dataframe\">\n",
       "  <thead>\n",
       "    <tr style=\"text-align: right;\">\n",
       "      <th></th>\n",
       "      <th>defect_id</th>\n",
       "      <th>product_id</th>\n",
       "      <th>defect_type</th>\n",
       "      <th>defect_date</th>\n",
       "      <th>defect_location</th>\n",
       "      <th>severity</th>\n",
       "      <th>inspection_method</th>\n",
       "      <th>repair_cost</th>\n",
       "    </tr>\n",
       "  </thead>\n",
       "  <tbody>\n",
       "    <tr>\n",
       "      <th>0</th>\n",
       "      <td>1</td>\n",
       "      <td>15</td>\n",
       "      <td>Structural</td>\n",
       "      <td>6/6/2024</td>\n",
       "      <td>Component</td>\n",
       "      <td>Minor</td>\n",
       "      <td>Visual Inspection</td>\n",
       "      <td>245.47</td>\n",
       "    </tr>\n",
       "    <tr>\n",
       "      <th>1</th>\n",
       "      <td>2</td>\n",
       "      <td>6</td>\n",
       "      <td>Functional</td>\n",
       "      <td>4/26/2024</td>\n",
       "      <td>Component</td>\n",
       "      <td>Minor</td>\n",
       "      <td>Visual Inspection</td>\n",
       "      <td>26.87</td>\n",
       "    </tr>\n",
       "    <tr>\n",
       "      <th>2</th>\n",
       "      <td>3</td>\n",
       "      <td>84</td>\n",
       "      <td>Structural</td>\n",
       "      <td>2/15/2024</td>\n",
       "      <td>Internal</td>\n",
       "      <td>Minor</td>\n",
       "      <td>Automated Testing</td>\n",
       "      <td>835.81</td>\n",
       "    </tr>\n",
       "    <tr>\n",
       "      <th>3</th>\n",
       "      <td>4</td>\n",
       "      <td>10</td>\n",
       "      <td>Functional</td>\n",
       "      <td>3/28/2024</td>\n",
       "      <td>Internal</td>\n",
       "      <td>Critical</td>\n",
       "      <td>Automated Testing</td>\n",
       "      <td>444.47</td>\n",
       "    </tr>\n",
       "    <tr>\n",
       "      <th>4</th>\n",
       "      <td>5</td>\n",
       "      <td>14</td>\n",
       "      <td>Cosmetic</td>\n",
       "      <td>4/26/2024</td>\n",
       "      <td>Component</td>\n",
       "      <td>Minor</td>\n",
       "      <td>Manual Testing</td>\n",
       "      <td>823.64</td>\n",
       "    </tr>\n",
       "  </tbody>\n",
       "</table>\n",
       "</div>"
      ],
      "text/plain": [
       "   defect_id  product_id defect_type defect_date defect_location  severity  \\\n",
       "0          1          15  Structural    6/6/2024       Component     Minor   \n",
       "1          2           6  Functional   4/26/2024       Component     Minor   \n",
       "2          3          84  Structural   2/15/2024        Internal     Minor   \n",
       "3          4          10  Functional   3/28/2024        Internal  Critical   \n",
       "4          5          14    Cosmetic   4/26/2024       Component     Minor   \n",
       "\n",
       "   inspection_method  repair_cost  \n",
       "0  Visual Inspection       245.47  \n",
       "1  Visual Inspection        26.87  \n",
       "2  Automated Testing       835.81  \n",
       "3  Automated Testing       444.47  \n",
       "4     Manual Testing       823.64  "
      ]
     },
     "execution_count": 2,
     "metadata": {},
     "output_type": "execute_result"
    }
   ],
   "source": [
    "# Loading CSV\n",
    "df = pd.read_csv(\"/kaggle/input/manufacturing-defects/defects_data.csv\")\n",
    "\n",
    "# Sample rows\n",
    "df.head()"
   ]
  },
  {
   "cell_type": "code",
   "execution_count": 3,
   "id": "72d10d61",
   "metadata": {
    "execution": {
     "iopub.execute_input": "2025-10-08T06:46:40.047270Z",
     "iopub.status.busy": "2025-10-08T06:46:40.046647Z",
     "iopub.status.idle": "2025-10-08T06:46:40.054297Z",
     "shell.execute_reply": "2025-10-08T06:46:40.053409Z"
    },
    "papermill": {
     "duration": 0.016089,
     "end_time": "2025-10-08T06:46:40.055757",
     "exception": false,
     "start_time": "2025-10-08T06:46:40.039668",
     "status": "completed"
    },
    "tags": []
   },
   "outputs": [
    {
     "data": {
      "text/plain": [
       "defect_id            0\n",
       "product_id           0\n",
       "defect_type          0\n",
       "defect_date          0\n",
       "defect_location      0\n",
       "severity             0\n",
       "inspection_method    0\n",
       "repair_cost          0\n",
       "dtype: int64"
      ]
     },
     "execution_count": 3,
     "metadata": {},
     "output_type": "execute_result"
    }
   ],
   "source": [
    "# Checking missing values\n",
    "df.isna().sum()"
   ]
  },
  {
   "cell_type": "code",
   "execution_count": 4,
   "id": "dfdc9331",
   "metadata": {
    "execution": {
     "iopub.execute_input": "2025-10-08T06:46:40.070215Z",
     "iopub.status.busy": "2025-10-08T06:46:40.069323Z",
     "iopub.status.idle": "2025-10-08T06:46:40.092044Z",
     "shell.execute_reply": "2025-10-08T06:46:40.090899Z"
    },
    "papermill": {
     "duration": 0.031498,
     "end_time": "2025-10-08T06:46:40.093503",
     "exception": false,
     "start_time": "2025-10-08T06:46:40.062005",
     "status": "completed"
    },
    "tags": []
   },
   "outputs": [
    {
     "name": "stdout",
     "output_type": "stream",
     "text": [
      "<class 'pandas.core.frame.DataFrame'>\n",
      "RangeIndex: 1000 entries, 0 to 999\n",
      "Data columns (total 8 columns):\n",
      " #   Column             Non-Null Count  Dtype  \n",
      "---  ------             --------------  -----  \n",
      " 0   defect_id          1000 non-null   int64  \n",
      " 1   product_id         1000 non-null   int64  \n",
      " 2   defect_type        1000 non-null   object \n",
      " 3   defect_date        1000 non-null   object \n",
      " 4   defect_location    1000 non-null   object \n",
      " 5   severity           1000 non-null   object \n",
      " 6   inspection_method  1000 non-null   object \n",
      " 7   repair_cost        1000 non-null   float64\n",
      "dtypes: float64(1), int64(2), object(5)\n",
      "memory usage: 62.6+ KB\n"
     ]
    }
   ],
   "source": [
    "# Dataset Summary \n",
    "df.info()"
   ]
  },
  {
   "cell_type": "code",
   "execution_count": 5,
   "id": "c6eeec25",
   "metadata": {
    "execution": {
     "iopub.execute_input": "2025-10-08T06:46:40.107121Z",
     "iopub.status.busy": "2025-10-08T06:46:40.106749Z",
     "iopub.status.idle": "2025-10-08T06:46:40.118953Z",
     "shell.execute_reply": "2025-10-08T06:46:40.118104Z"
    },
    "papermill": {
     "duration": 0.020671,
     "end_time": "2025-10-08T06:46:40.120522",
     "exception": false,
     "start_time": "2025-10-08T06:46:40.099851",
     "status": "completed"
    },
    "tags": []
   },
   "outputs": [],
   "source": [
    "# Converting defect_date to datetime\n",
    "df['defect_date'] = pd.to_datetime(df['defect_date'], errors='coerce')"
   ]
  },
  {
   "cell_type": "code",
   "execution_count": 6,
   "id": "400ddbac",
   "metadata": {
    "execution": {
     "iopub.execute_input": "2025-10-08T06:46:40.133843Z",
     "iopub.status.busy": "2025-10-08T06:46:40.133496Z",
     "iopub.status.idle": "2025-10-08T06:46:40.144006Z",
     "shell.execute_reply": "2025-10-08T06:46:40.143001Z"
    },
    "papermill": {
     "duration": 0.018722,
     "end_time": "2025-10-08T06:46:40.145439",
     "exception": false,
     "start_time": "2025-10-08T06:46:40.126717",
     "status": "completed"
    },
    "tags": []
   },
   "outputs": [
    {
     "name": "stdout",
     "output_type": "stream",
     "text": [
      "<class 'pandas.core.frame.DataFrame'>\n",
      "RangeIndex: 1000 entries, 0 to 999\n",
      "Data columns (total 8 columns):\n",
      " #   Column             Non-Null Count  Dtype         \n",
      "---  ------             --------------  -----         \n",
      " 0   defect_id          1000 non-null   int64         \n",
      " 1   product_id         1000 non-null   int64         \n",
      " 2   defect_type        1000 non-null   object        \n",
      " 3   defect_date        1000 non-null   datetime64[ns]\n",
      " 4   defect_location    1000 non-null   object        \n",
      " 5   severity           1000 non-null   object        \n",
      " 6   inspection_method  1000 non-null   object        \n",
      " 7   repair_cost        1000 non-null   float64       \n",
      "dtypes: datetime64[ns](1), float64(1), int64(2), object(4)\n",
      "memory usage: 62.6+ KB\n"
     ]
    }
   ],
   "source": [
    "# Dataset Summary after converting\n",
    "df.info()"
   ]
  },
  {
   "cell_type": "code",
   "execution_count": 7,
   "id": "72e89e5e",
   "metadata": {
    "execution": {
     "iopub.execute_input": "2025-10-08T06:46:40.159577Z",
     "iopub.status.busy": "2025-10-08T06:46:40.158746Z",
     "iopub.status.idle": "2025-10-08T06:46:40.165933Z",
     "shell.execute_reply": "2025-10-08T06:46:40.165151Z"
    },
    "papermill": {
     "duration": 0.015613,
     "end_time": "2025-10-08T06:46:40.167438",
     "exception": false,
     "start_time": "2025-10-08T06:46:40.151825",
     "status": "completed"
    },
    "tags": []
   },
   "outputs": [
    {
     "data": {
      "text/plain": [
       "0"
      ]
     },
     "execution_count": 7,
     "metadata": {},
     "output_type": "execute_result"
    }
   ],
   "source": [
    "# Check for duplicates\n",
    "df.duplicated().sum()"
   ]
  },
  {
   "cell_type": "code",
   "execution_count": 8,
   "id": "13261d66",
   "metadata": {
    "execution": {
     "iopub.execute_input": "2025-10-08T06:46:40.182161Z",
     "iopub.status.busy": "2025-10-08T06:46:40.181542Z",
     "iopub.status.idle": "2025-10-08T06:46:40.187070Z",
     "shell.execute_reply": "2025-10-08T06:46:40.186399Z"
    },
    "papermill": {
     "duration": 0.013893,
     "end_time": "2025-10-08T06:46:40.188423",
     "exception": false,
     "start_time": "2025-10-08T06:46:40.174530",
     "status": "completed"
    },
    "tags": []
   },
   "outputs": [
    {
     "data": {
      "text/plain": [
       "Index(['defect_id', 'product_id', 'defect_type', 'defect_date',\n",
       "       'defect_location', 'severity', 'inspection_method', 'repair_cost'],\n",
       "      dtype='object')"
      ]
     },
     "execution_count": 8,
     "metadata": {},
     "output_type": "execute_result"
    }
   ],
   "source": [
    "# check for inconsistencies\n",
    "df.columns"
   ]
  },
  {
   "cell_type": "code",
   "execution_count": 9,
   "id": "fccc4a8c",
   "metadata": {
    "execution": {
     "iopub.execute_input": "2025-10-08T06:46:40.203203Z",
     "iopub.status.busy": "2025-10-08T06:46:40.202283Z",
     "iopub.status.idle": "2025-10-08T06:46:40.207802Z",
     "shell.execute_reply": "2025-10-08T06:46:40.206966Z"
    },
    "papermill": {
     "duration": 0.01417,
     "end_time": "2025-10-08T06:46:40.209410",
     "exception": false,
     "start_time": "2025-10-08T06:46:40.195240",
     "status": "completed"
    },
    "tags": []
   },
   "outputs": [],
   "source": [
    "# Standardize column names\n",
    "df.columns = df.columns.str.strip().str.lower().str.replace(' ', '_')\n"
   ]
  },
  {
   "cell_type": "code",
   "execution_count": 10,
   "id": "b0175e9c",
   "metadata": {
    "execution": {
     "iopub.execute_input": "2025-10-08T06:46:40.223465Z",
     "iopub.status.busy": "2025-10-08T06:46:40.223148Z",
     "iopub.status.idle": "2025-10-08T06:46:40.234187Z",
     "shell.execute_reply": "2025-10-08T06:46:40.233317Z"
    },
    "papermill": {
     "duration": 0.019674,
     "end_time": "2025-10-08T06:46:40.235581",
     "exception": false,
     "start_time": "2025-10-08T06:46:40.215907",
     "status": "completed"
    },
    "tags": []
   },
   "outputs": [
    {
     "data": {
      "text/html": [
       "<div>\n",
       "<style scoped>\n",
       "    .dataframe tbody tr th:only-of-type {\n",
       "        vertical-align: middle;\n",
       "    }\n",
       "\n",
       "    .dataframe tbody tr th {\n",
       "        vertical-align: top;\n",
       "    }\n",
       "\n",
       "    .dataframe thead th {\n",
       "        text-align: right;\n",
       "    }\n",
       "</style>\n",
       "<table border=\"1\" class=\"dataframe\">\n",
       "  <thead>\n",
       "    <tr style=\"text-align: right;\">\n",
       "      <th></th>\n",
       "      <th>defect_id</th>\n",
       "      <th>product_id</th>\n",
       "      <th>defect_type</th>\n",
       "      <th>defect_date</th>\n",
       "      <th>defect_location</th>\n",
       "      <th>severity</th>\n",
       "      <th>inspection_method</th>\n",
       "      <th>repair_cost</th>\n",
       "    </tr>\n",
       "  </thead>\n",
       "  <tbody>\n",
       "    <tr>\n",
       "      <th>0</th>\n",
       "      <td>1</td>\n",
       "      <td>15</td>\n",
       "      <td>Structural</td>\n",
       "      <td>2024-06-06</td>\n",
       "      <td>Component</td>\n",
       "      <td>Minor</td>\n",
       "      <td>Visual Inspection</td>\n",
       "      <td>245.47</td>\n",
       "    </tr>\n",
       "    <tr>\n",
       "      <th>1</th>\n",
       "      <td>2</td>\n",
       "      <td>6</td>\n",
       "      <td>Functional</td>\n",
       "      <td>2024-04-26</td>\n",
       "      <td>Component</td>\n",
       "      <td>Minor</td>\n",
       "      <td>Visual Inspection</td>\n",
       "      <td>26.87</td>\n",
       "    </tr>\n",
       "    <tr>\n",
       "      <th>2</th>\n",
       "      <td>3</td>\n",
       "      <td>84</td>\n",
       "      <td>Structural</td>\n",
       "      <td>2024-02-15</td>\n",
       "      <td>Internal</td>\n",
       "      <td>Minor</td>\n",
       "      <td>Automated Testing</td>\n",
       "      <td>835.81</td>\n",
       "    </tr>\n",
       "    <tr>\n",
       "      <th>3</th>\n",
       "      <td>4</td>\n",
       "      <td>10</td>\n",
       "      <td>Functional</td>\n",
       "      <td>2024-03-28</td>\n",
       "      <td>Internal</td>\n",
       "      <td>Critical</td>\n",
       "      <td>Automated Testing</td>\n",
       "      <td>444.47</td>\n",
       "    </tr>\n",
       "    <tr>\n",
       "      <th>4</th>\n",
       "      <td>5</td>\n",
       "      <td>14</td>\n",
       "      <td>Cosmetic</td>\n",
       "      <td>2024-04-26</td>\n",
       "      <td>Component</td>\n",
       "      <td>Minor</td>\n",
       "      <td>Manual Testing</td>\n",
       "      <td>823.64</td>\n",
       "    </tr>\n",
       "  </tbody>\n",
       "</table>\n",
       "</div>"
      ],
      "text/plain": [
       "   defect_id  product_id defect_type defect_date defect_location  severity  \\\n",
       "0          1          15  Structural  2024-06-06       Component     Minor   \n",
       "1          2           6  Functional  2024-04-26       Component     Minor   \n",
       "2          3          84  Structural  2024-02-15        Internal     Minor   \n",
       "3          4          10  Functional  2024-03-28        Internal  Critical   \n",
       "4          5          14    Cosmetic  2024-04-26       Component     Minor   \n",
       "\n",
       "   inspection_method  repair_cost  \n",
       "0  Visual Inspection       245.47  \n",
       "1  Visual Inspection        26.87  \n",
       "2  Automated Testing       835.81  \n",
       "3  Automated Testing       444.47  \n",
       "4     Manual Testing       823.64  "
      ]
     },
     "execution_count": 10,
     "metadata": {},
     "output_type": "execute_result"
    }
   ],
   "source": [
    "# Sample rows after cleaning\n",
    "df.head()"
   ]
  },
  {
   "cell_type": "markdown",
   "id": "ec5bfe8c",
   "metadata": {
    "papermill": {
     "duration": 0.006233,
     "end_time": "2025-10-08T06:46:40.248386",
     "exception": false,
     "start_time": "2025-10-08T06:46:40.242153",
     "status": "completed"
    },
    "tags": []
   },
   "source": [
    "## Step 2: Exploratory Data Analysis & Visualizations"
   ]
  },
  {
   "cell_type": "markdown",
   "id": "cbb75764",
   "metadata": {
    "papermill": {
     "duration": 0.00606,
     "end_time": "2025-10-08T06:46:40.260860",
     "exception": false,
     "start_time": "2025-10-08T06:46:40.254800",
     "status": "completed"
    },
    "tags": []
   },
   "source": [
    "### 🔸 Basic Stats\n",
    "\n",
    "\n",
    "\n"
   ]
  },
  {
   "cell_type": "code",
   "execution_count": 11,
   "id": "b67ba933",
   "metadata": {
    "execution": {
     "iopub.execute_input": "2025-10-08T06:46:40.275055Z",
     "iopub.status.busy": "2025-10-08T06:46:40.274717Z",
     "iopub.status.idle": "2025-10-08T06:46:40.279800Z",
     "shell.execute_reply": "2025-10-08T06:46:40.278841Z"
    },
    "papermill": {
     "duration": 0.013798,
     "end_time": "2025-10-08T06:46:40.281252",
     "exception": false,
     "start_time": "2025-10-08T06:46:40.267454",
     "status": "completed"
    },
    "tags": []
   },
   "outputs": [
    {
     "name": "stdout",
     "output_type": "stream",
     "text": [
      "1000\n"
     ]
    }
   ],
   "source": [
    "# Total defects\n",
    "total_defects = len(df['defect_id'])\n",
    "print(total_defects)"
   ]
  },
  {
   "cell_type": "code",
   "execution_count": 12,
   "id": "e5e2ac0d",
   "metadata": {
    "execution": {
     "iopub.execute_input": "2025-10-08T06:46:40.296595Z",
     "iopub.status.busy": "2025-10-08T06:46:40.295969Z",
     "iopub.status.idle": "2025-10-08T06:46:40.302445Z",
     "shell.execute_reply": "2025-10-08T06:46:40.301497Z"
    },
    "papermill": {
     "duration": 0.015595,
     "end_time": "2025-10-08T06:46:40.303889",
     "exception": false,
     "start_time": "2025-10-08T06:46:40.288294",
     "status": "completed"
    },
    "tags": []
   },
   "outputs": [
    {
     "name": "stdout",
     "output_type": "stream",
     "text": [
      "100\n"
     ]
    }
   ],
   "source": [
    "# Unique products\n",
    "unique_products = df['product_id'].nunique()\n",
    "print(unique_products)"
   ]
  },
  {
   "cell_type": "code",
   "execution_count": 13,
   "id": "06f4c70e",
   "metadata": {
    "execution": {
     "iopub.execute_input": "2025-10-08T06:46:40.319068Z",
     "iopub.status.busy": "2025-10-08T06:46:40.318719Z",
     "iopub.status.idle": "2025-10-08T06:46:40.324194Z",
     "shell.execute_reply": "2025-10-08T06:46:40.323348Z"
    },
    "papermill": {
     "duration": 0.014447,
     "end_time": "2025-10-08T06:46:40.325508",
     "exception": false,
     "start_time": "2025-10-08T06:46:40.311061",
     "status": "completed"
    },
    "tags": []
   },
   "outputs": [
    {
     "name": "stdout",
     "output_type": "stream",
     "text": [
      "['Structural' 'Functional' 'Cosmetic']\n"
     ]
    }
   ],
   "source": [
    "# Unique defect types\n",
    "print(df['defect_type'].unique())"
   ]
  },
  {
   "cell_type": "code",
   "execution_count": 14,
   "id": "3d8ad653",
   "metadata": {
    "execution": {
     "iopub.execute_input": "2025-10-08T06:46:40.340918Z",
     "iopub.status.busy": "2025-10-08T06:46:40.340114Z",
     "iopub.status.idle": "2025-10-08T06:46:40.345559Z",
     "shell.execute_reply": "2025-10-08T06:46:40.344583Z"
    },
    "papermill": {
     "duration": 0.01445,
     "end_time": "2025-10-08T06:46:40.346931",
     "exception": false,
     "start_time": "2025-10-08T06:46:40.332481",
     "status": "completed"
    },
    "tags": []
   },
   "outputs": [
    {
     "name": "stdout",
     "output_type": "stream",
     "text": [
      "['Visual Inspection' 'Automated Testing' 'Manual Testing']\n"
     ]
    }
   ],
   "source": [
    "# Unique inspection methods\n",
    "print(df['inspection_method'].unique())"
   ]
  },
  {
   "cell_type": "code",
   "execution_count": 15,
   "id": "e6b3feac",
   "metadata": {
    "execution": {
     "iopub.execute_input": "2025-10-08T06:46:40.362775Z",
     "iopub.status.busy": "2025-10-08T06:46:40.362454Z",
     "iopub.status.idle": "2025-10-08T06:46:40.368819Z",
     "shell.execute_reply": "2025-10-08T06:46:40.367872Z"
    },
    "papermill": {
     "duration": 0.015981,
     "end_time": "2025-10-08T06:46:40.370366",
     "exception": false,
     "start_time": "2025-10-08T06:46:40.354385",
     "status": "completed"
    },
    "tags": []
   },
   "outputs": [
    {
     "name": "stdout",
     "output_type": "stream",
     "text": [
      "Min: 10.22, Max: 999.64, Avg: 507.62715\n"
     ]
    }
   ],
   "source": [
    "# Average, min, max repair_cost\n",
    "min_repair_cost = np.min(df['repair_cost'])\n",
    "max_repair_cost = np.max(df['repair_cost'])\n",
    "avg_repair_cost = np.mean(df['repair_cost'])\n",
    "\n",
    "print(f'Min: {min_repair_cost}, Max: {max_repair_cost}, Avg: {avg_repair_cost}')"
   ]
  },
  {
   "cell_type": "markdown",
   "id": "090a8829",
   "metadata": {
    "papermill": {
     "duration": 0.006513,
     "end_time": "2025-10-08T06:46:40.384936",
     "exception": false,
     "start_time": "2025-10-08T06:46:40.378423",
     "status": "completed"
    },
    "tags": []
   },
   "source": [
    "### 🔸 Defect Trends\n",
    "\n",
    "\n",
    "\n",
    "\n",
    "\n",
    "\n"
   ]
  },
  {
   "cell_type": "code",
   "execution_count": 16,
   "id": "03096fcd",
   "metadata": {
    "execution": {
     "iopub.execute_input": "2025-10-08T06:46:40.400276Z",
     "iopub.status.busy": "2025-10-08T06:46:40.399397Z",
     "iopub.status.idle": "2025-10-08T06:46:40.694075Z",
     "shell.execute_reply": "2025-10-08T06:46:40.693233Z"
    },
    "papermill": {
     "duration": 0.303952,
     "end_time": "2025-10-08T06:46:40.695659",
     "exception": false,
     "start_time": "2025-10-08T06:46:40.391707",
     "status": "completed"
    },
    "tags": []
   },
   "outputs": [
    {
     "name": "stdout",
     "output_type": "stream",
     "text": [
      "month\n",
      "January     191\n",
      "March       175\n",
      "May         167\n",
      "February    160\n",
      "April       156\n",
      "June        151\n",
      "Name: defect_id, dtype: int64\n"
     ]
    },
    {
     "data": {
      "image/png": "[encoded data removed]",
      "text/plain": [
       "<Figure size 1000x600 with 1 Axes>"
      ]
     },
     "metadata": {},
     "output_type": "display_data"
    }
   ],
   "source": [
    "# Plot number of defects by month → detect peaks\n",
    "\n",
    "df['month'] = df['defect_date'].dt.month_name()\n",
    "\n",
    "df.head()\n",
    "\n",
    "monthly_defects = df.groupby('month')['defect_id'].count().sort_values(ascending=False)\n",
    "print(monthly_defects)\n",
    "\n",
    "plt.figure(figsize=(10,6))\n",
    "ax = sns.barplot(x=monthly_defects.index, y=monthly_defects.values)\n",
    "\n",
    "for container in ax.containers:\n",
    "    ax.bar_label(container, fmt='%d', padding=3)\n",
    "\n",
    "plt.title(\"Month-wise Defects\")\n",
    "plt.xlabel(\"Month\")\n",
    "plt.ylabel(\"Count\")\n",
    "plt.show()"
   ]
  },
  {
   "cell_type": "markdown",
   "id": "1663c6d2",
   "metadata": {
    "papermill": {
     "duration": 0.006953,
     "end_time": "2025-10-08T06:46:40.710438",
     "exception": false,
     "start_time": "2025-10-08T06:46:40.703485",
     "status": "completed"
    },
    "tags": []
   },
   "source": [
    "## Month-wise Defects\n",
    "\n",
    "**Observation:**  \n",
    "- January has the highest number of defects (191), followed by March (175) and May (167).  \n",
    "- June and April have the lowest counts (151 and 156 respectively).  \n",
    "\n",
    "**Insight:**  \n",
    "- There may be **seasonal or batch-specific factors** affecting defect rates.  \n",
    "- Peaks in January and March could indicate **high production volumes** or **process inefficiencies** during these months.  \n",
    "- Preventive maintenance, additional inspections, or resource planning could be prioritized during these high-defect months to reduce overall defects.\n"
   ]
  },
  {
   "cell_type": "code",
   "execution_count": 17,
   "id": "51ff4931",
   "metadata": {
    "execution": {
     "iopub.execute_input": "2025-10-08T06:46:40.726062Z",
     "iopub.status.busy": "2025-10-08T06:46:40.725752Z",
     "iopub.status.idle": "2025-10-08T06:46:40.893007Z",
     "shell.execute_reply": "2025-10-08T06:46:40.892230Z"
    },
    "papermill": {
     "duration": 0.176903,
     "end_time": "2025-10-08T06:46:40.894554",
     "exception": false,
     "start_time": "2025-10-08T06:46:40.717651",
     "status": "completed"
    },
    "tags": []
   },
   "outputs": [
    {
     "name": "stdout",
     "output_type": "stream",
     "text": [
      "defect_type\n",
      "Cosmetic      513.908479\n",
      "Functional    507.096106\n",
      "Structural    502.624574\n",
      "Name: repair_cost, dtype: float64\n"
     ]
    },
    {
     "data": {
      "image/png": "[encoded data removed]",
      "text/plain": [
       "<Figure size 1000x600 with 1 Axes>"
      ]
     },
     "metadata": {},
     "output_type": "display_data"
    }
   ],
   "source": [
    "# Find average repair cost by defect type\n",
    "\n",
    "avg_type_cost = df.groupby('defect_type')['repair_cost'].mean()\n",
    "print(avg_type_cost)\n",
    "\n",
    "plt.figure(figsize=(10,6))\n",
    "ax1 = sns.barplot(x=avg_type_cost.index, y=avg_type_cost.values)\n",
    "\n",
    "for container in ax1.containers:\n",
    "    ax1.bar_label(container, fmt='%.2f', padding=3)\n",
    "\n",
    "plt.title(\"Average Repair Cost by Defect Types\")\n",
    "plt.xlabel(\"Defect Type\")\n",
    "plt.ylabel(\"Avg. Cost\")\n",
    "plt.show()"
   ]
  },
  {
   "cell_type": "markdown",
   "id": "25167a55",
   "metadata": {
    "papermill": {
     "duration": 0.007628,
     "end_time": "2025-10-08T06:46:40.910394",
     "exception": false,
     "start_time": "2025-10-08T06:46:40.902766",
     "status": "completed"
    },
    "tags": []
   },
   "source": [
    "## Average Repair Cost by Defect Type\n",
    "\n",
    "**Observation:**  \n",
    "- Cosmetic defects have the highest average repair cost (~₹514), followed by Functional (~₹507) and Structural (~₹503).  \n",
    "- The differences are relatively small, but Cosmetic defects slightly increase overall repair expenses.\n",
    "\n",
    "**Insight:**  \n",
    "- Cosmetic defects, though often minor, may require **manual repairs or finishing work**, leading to slightly higher costs.  \n",
    "- Structural and Functional defects might be addressed more systematically via **Automated or Visual inspections**, keeping average costs lower.  \n",
    "- Understanding cost patterns by defect type can help prioritize **resource allocation and process improvements** to reduce overall repair expenses.\n"
   ]
  },
  {
   "cell_type": "code",
   "execution_count": 18,
   "id": "f36a3176",
   "metadata": {
    "execution": {
     "iopub.execute_input": "2025-10-08T06:46:40.927621Z",
     "iopub.status.busy": "2025-10-08T06:46:40.926969Z",
     "iopub.status.idle": "2025-10-08T06:46:41.092473Z",
     "shell.execute_reply": "2025-10-08T06:46:41.091593Z"
    },
    "papermill": {
     "duration": 0.175673,
     "end_time": "2025-10-08T06:46:41.093925",
     "exception": false,
     "start_time": "2025-10-08T06:46:40.918252",
     "status": "completed"
    },
    "tags": []
   },
   "outputs": [
    {
     "name": "stdout",
     "output_type": "stream",
     "text": [
      "severity\n",
      "Minor       514.432877\n",
      "Critical    505.871622\n",
      "Moderate    501.634078\n",
      "Name: repair_cost, dtype: float64\n"
     ]
    },
    {
     "data": {
      "image/png": "[encoded data removed]",
      "text/plain": [
       "<Figure size 1000x600 with 1 Axes>"
      ]
     },
     "metadata": {},
     "output_type": "display_data"
    }
   ],
   "source": [
    "# Calculate average repair cost by severity\n",
    "\n",
    "avg_severity_cost = df.groupby('severity')['repair_cost'].mean().sort_values(ascending=False)\n",
    "print(avg_severity_cost)\n",
    "\n",
    "plt.figure(figsize=(10,6))\n",
    "ax2 = sns.barplot(x=avg_severity_cost.index, y=avg_severity_cost.values)\n",
    "\n",
    "for container in ax2.containers:\n",
    "    ax2.bar_label(container, fmt='%.2f', padding=3)\n",
    "\n",
    "plt.title(\"Average Repair Cost by Severity\")\n",
    "plt.xlabel(\"Severity\")\n",
    "plt.ylabel(\"Avg. Cost\")\n",
    "plt.show()"
   ]
  },
  {
   "cell_type": "markdown",
   "id": "a34cec63",
   "metadata": {
    "papermill": {
     "duration": 0.008719,
     "end_time": "2025-10-08T06:46:41.111634",
     "exception": false,
     "start_time": "2025-10-08T06:46:41.102915",
     "status": "completed"
    },
    "tags": []
   },
   "source": [
    "## Average Repair Cost by Severity\n",
    "\n",
    "**Observation:**  \n",
    "- Minor defects have the highest average repair cost (~₹514), followed by Critical (~₹506) and Moderate (~₹502) defects.  \n",
    "- The differences are relatively small, but interestingly, Minor defects cost slightly more on average than Critical ones.\n",
    "\n",
    "**Insight:**  \n",
    "- Minor defects may involve **manual finishing, cosmetic corrections, or repeated small repairs**, which can accumulate costs.  \n",
    "- Critical and Moderate defects might be **systematically addressed through Automated Testing or structured repair processes**, keeping average costs slightly lower.  \n",
    "- Understanding cost patterns by severity helps in **optimizing inspection focus and repair strategies** to reduce overall expenses.\n"
   ]
  },
  {
   "cell_type": "code",
   "execution_count": 19,
   "id": "21ceabee",
   "metadata": {
    "execution": {
     "iopub.execute_input": "2025-10-08T06:46:41.130841Z",
     "iopub.status.busy": "2025-10-08T06:46:41.129994Z",
     "iopub.status.idle": "2025-10-08T06:46:41.314822Z",
     "shell.execute_reply": "2025-10-08T06:46:41.313948Z"
    },
    "papermill": {
     "duration": 0.195688,
     "end_time": "2025-10-08T06:46:41.316349",
     "exception": false,
     "start_time": "2025-10-08T06:46:41.120661",
     "status": "completed"
    },
    "tags": []
   },
   "outputs": [
    {
     "name": "stdout",
     "output_type": "stream",
     "text": [
      "defect_type\n",
      "Structural    352\n",
      "Functional    339\n",
      "Cosmetic      309\n",
      "Name: count, dtype: int64\n"
     ]
    },
    {
     "data": {
      "image/png": "[encoded data removed]",
      "text/plain": [
       "<Figure size 1000x600 with 1 Axes>"
      ]
     },
     "metadata": {},
     "output_type": "display_data"
    }
   ],
   "source": [
    "# Analyze defect types frequency (Structural, Functional, Cosmetic)\n",
    "\n",
    "type_freq = df['defect_type'].value_counts()\n",
    "print(type_freq)\n",
    "\n",
    "plt.figure(figsize=(10,6))\n",
    "ax3 = sns.barplot(x=type_freq.index, y=type_freq.values)\n",
    "\n",
    "for container in ax3.containers:\n",
    "    ax3.bar_label(container, fmt='%d', padding=3)\n",
    "\n",
    "plt.title(\"Defect Types Frequency\")\n",
    "plt.xlabel(\"Defect Type\")\n",
    "plt.ylabel(\"Frequency\")\n",
    "plt.show()"
   ]
  },
  {
   "cell_type": "markdown",
   "id": "b8148754",
   "metadata": {
    "papermill": {
     "duration": 0.008581,
     "end_time": "2025-10-08T06:46:41.334020",
     "exception": false,
     "start_time": "2025-10-08T06:46:41.325439",
     "status": "completed"
    },
    "tags": []
   },
   "source": [
    "## Defect Types Frequency\n",
    "\n",
    "**Observation:**  \n",
    "- Structural defects are the most frequent (352 occurrences), followed by Functional (339) and Cosmetic defects (309).  \n",
    "- The differences are moderate, but Structural defects slightly dominate the dataset.\n",
    "\n",
    "**Insight:**  \n",
    "- Structural defects may point to **design or material weaknesses** in the product.  \n",
    "- Functional defects suggest areas for **process or assembly improvements**, while Cosmetic defects, though fewer, still require attention to maintain product quality.  \n",
    "- Knowing the frequency of defect types can help **prioritize quality control measures** and target specific defect categories for prevention.\n"
   ]
  },
  {
   "cell_type": "markdown",
   "id": "46c288ea",
   "metadata": {
    "execution": {
     "iopub.execute_input": "2025-10-08T05:34:24.026528Z",
     "iopub.status.busy": "2025-10-08T05:34:24.025952Z",
     "iopub.status.idle": "2025-10-08T05:34:24.029855Z",
     "shell.execute_reply": "2025-10-08T05:34:24.029041Z",
     "shell.execute_reply.started": "2025-10-08T05:34:24.026484Z"
    },
    "papermill": {
     "duration": 0.00865,
     "end_time": "2025-10-08T06:46:41.351675",
     "exception": false,
     "start_time": "2025-10-08T06:46:41.343025",
     "status": "completed"
    },
    "tags": []
   },
   "source": [
    "### 🔸 Inspection & Location Analysis"
   ]
  },
  {
   "cell_type": "code",
   "execution_count": 20,
   "id": "750a7866",
   "metadata": {
    "execution": {
     "iopub.execute_input": "2025-10-08T06:46:41.371460Z",
     "iopub.status.busy": "2025-10-08T06:46:41.370502Z",
     "iopub.status.idle": "2025-10-08T06:46:41.536979Z",
     "shell.execute_reply": "2025-10-08T06:46:41.536152Z"
    },
    "papermill": {
     "duration": 0.177919,
     "end_time": "2025-10-08T06:46:41.538532",
     "exception": false,
     "start_time": "2025-10-08T06:46:41.360613",
     "status": "completed"
    },
    "tags": []
   },
   "outputs": [
    {
     "name": "stdout",
     "output_type": "stream",
     "text": [
      "inspection_method\n",
      "Automated Testing    501.804310\n",
      "Manual Testing       526.074687\n",
      "Visual Inspection    494.054074\n",
      "Name: repair_cost, dtype: float64\n"
     ]
    },
    {
     "data": {
      "image/png": "[encoded data removed]",
      "text/plain": [
       "<Figure size 1000x600 with 1 Axes>"
      ]
     },
     "metadata": {},
     "output_type": "display_data"
    }
   ],
   "source": [
    "# Compare inspection method vs average repair cost\n",
    "avg_method_cost = df.groupby('inspection_method')['repair_cost'].mean()\n",
    "print(avg_method_cost)\n",
    "plt.figure(figsize=(10,6))\n",
    "ax4 = sns.barplot(x=avg_method_cost.index, y=avg_method_cost.values)\n",
    "\n",
    "for container in ax4.containers:\n",
    "    ax4.bar_label(container, fmt='%.2f', padding=3)\n",
    "\n",
    "plt.title(\"Inspection Method vs Average Repair Cost\")\n",
    "plt.xlabel(\"Inspection Method\")\n",
    "plt.ylabel(\"Avg. Repair Cost\")\n",
    "plt.show()"
   ]
  },
  {
   "cell_type": "markdown",
   "id": "39f2c495",
   "metadata": {
    "papermill": {
     "duration": 0.00945,
     "end_time": "2025-10-08T06:46:41.558175",
     "exception": false,
     "start_time": "2025-10-08T06:46:41.548725",
     "status": "completed"
    },
    "tags": []
   },
   "source": [
    "## Inspection Method vs Average Repair Cost\n",
    "\n",
    "**Observation:**  \n",
    "- Manual Testing has the highest average repair cost (~₹526), followed by Automated Testing (~₹502) and Visual Inspection (~₹494).  \n",
    "- Automated Testing is moderately costly but more systematic, while Manual Testing tends to incur higher expenses.\n",
    "\n",
    "**Insight:**  \n",
    "- Manual inspections may lead to **higher repair costs** due to human error, repeated checks, or labor-intensive corrections.  \n",
    "- Automated Testing, while effective in detecting critical defects, keeps costs more consistent.  \n",
    "- Visual Inspection is the least costly but may miss some defects.  \n",
    "- This analysis suggests **optimizing inspection methods** by combining Automated Testing for critical components and improving Manual Testing protocols for minor defects to control costs.\n"
   ]
  },
  {
   "cell_type": "code",
   "execution_count": 21,
   "id": "eadb6dce",
   "metadata": {
    "execution": {
     "iopub.execute_input": "2025-10-08T06:46:41.579328Z",
     "iopub.status.busy": "2025-10-08T06:46:41.578218Z",
     "iopub.status.idle": "2025-10-08T06:46:41.748933Z",
     "shell.execute_reply": "2025-10-08T06:46:41.748159Z"
    },
    "papermill": {
     "duration": 0.182772,
     "end_time": "2025-10-08T06:46:41.750479",
     "exception": false,
     "start_time": "2025-10-08T06:46:41.567707",
     "status": "completed"
    },
    "tags": []
   },
   "outputs": [
    {
     "name": "stdout",
     "output_type": "stream",
     "text": [
      "defect_location\n",
      "Surface      353\n",
      "Component    326\n",
      "Internal     321\n",
      "Name: count, dtype: int64\n"
     ]
    },
    {
     "data": {
      "image/png": "[encoded data removed]",
      "text/plain": [
       "<Figure size 1000x600 with 1 Axes>"
      ]
     },
     "metadata": {},
     "output_type": "display_data"
    }
   ],
   "source": [
    "# Compare defect location vs defect count\n",
    "defect_loc_cou = df['defect_location'].value_counts()\n",
    "print(defect_loc_cou)\n",
    "\n",
    "plt.figure(figsize=(10,6))\n",
    "ax5 = sns.barplot(x=defect_loc_cou.index, y=defect_loc_cou.values, palette='coolwarm')\n",
    "\n",
    "for container in ax5.containers:\n",
    "    ax5.bar_label(container, fmt='%d', padding=3)\n",
    "\n",
    "plt.title(\"Defect Location vs Defect Count\")\n",
    "plt.xlabel(\"Defect Location\")\n",
    "plt.ylabel(\"Defect Count\")\n",
    "plt.show()"
   ]
  },
  {
   "cell_type": "markdown",
   "id": "6ac4e6b1",
   "metadata": {
    "papermill": {
     "duration": 0.010525,
     "end_time": "2025-10-08T06:46:41.771476",
     "exception": false,
     "start_time": "2025-10-08T06:46:41.760951",
     "status": "completed"
    },
    "tags": []
   },
   "source": [
    "## Defect Location vs Defect Count\n",
    "\n",
    "**Observation:**  \n",
    "- Most defects occur on the **Surface** (353), followed by **Component** (326) and **Internal** locations (321).  \n",
    "- Surface defects are slightly more frequent, but Internal defects may have **higher repair costs**.\n",
    "\n",
    "**Insight:**  \n",
    "- Surface defects are easier to detect and repair, which may explain the higher count.  \n",
    "- Internal and Component defects, though slightly fewer, could require **more complex or costly repairs**, especially if they are critical.  \n",
    "- Focusing inspection and preventive measures on **Internal components** could help reduce repair costs and improve product reliability.\n"
   ]
  },
  {
   "cell_type": "code",
   "execution_count": 22,
   "id": "56244e44",
   "metadata": {
    "execution": {
     "iopub.execute_input": "2025-10-08T06:46:41.795748Z",
     "iopub.status.busy": "2025-10-08T06:46:41.794925Z",
     "iopub.status.idle": "2025-10-08T06:46:41.966569Z",
     "shell.execute_reply": "2025-10-08T06:46:41.965735Z"
    },
    "papermill": {
     "duration": 0.185503,
     "end_time": "2025-10-08T06:46:41.967924",
     "exception": false,
     "start_time": "2025-10-08T06:46:41.782421",
     "status": "completed"
    },
    "tags": []
   },
   "outputs": [
    {
     "name": "stdout",
     "output_type": "stream",
     "text": [
      "inspection_method\n",
      "Manual Testing       119\n",
      "Visual Inspection    110\n",
      "Automated Testing    104\n",
      "Name: count, dtype: int64\n"
     ]
    },
    {
     "data": {
      "image/png": "[encoded data removed]",
      "text/plain": [
       "<Figure size 1000x600 with 1 Axes>"
      ]
     },
     "metadata": {},
     "output_type": "display_data"
    }
   ],
   "source": [
    "# Which inspection method catches the most “Critical” defects?\n",
    "cri = df[df['severity']=='Critical']\n",
    "critical_defects = cri['inspection_method'].value_counts()\n",
    "print(critical_defects)\n",
    "\n",
    "plt.figure(figsize=(10,6))\n",
    "ax6 = sns.barplot(x=critical_defects.index, y=critical_defects.values)\n",
    "\n",
    "for container in ax6.containers:\n",
    "    ax6.bar_label(container, fmt='%d', padding=3)\n",
    "\n",
    "plt.title(\"Inspection Method with most Critical Defects\")\n",
    "plt.xlabel(\"Inspection Method\")\n",
    "plt.ylabel(\"Critical Defects Count\")\n",
    "plt.show()"
   ]
  },
  {
   "cell_type": "markdown",
   "id": "b448749a",
   "metadata": {
    "papermill": {
     "duration": 0.011417,
     "end_time": "2025-10-08T06:46:41.991663",
     "exception": false,
     "start_time": "2025-10-08T06:46:41.980246",
     "status": "completed"
    },
    "tags": []
   },
   "source": [
    "## Inspection Method with Most Critical Defects\n",
    "\n",
    "**Observation:**  \n",
    "- Manual Testing detects the highest number of Critical defects (119), followed by Visual Inspection (110) and Automated Testing (104).  \n",
    "- While Automated Testing is systematic, Manual Testing identifies slightly more critical issues in this dataset.\n",
    "\n",
    "**Insight:**  \n",
    "- Manual Testing may be more effective at catching **certain critical defects** that are difficult for automated systems to detect, possibly due to **complex visual cues or unusual defects**.  \n",
    "- Automated Testing is consistent but may miss some edge-case critical defects.  \n",
    "- Combining **Manual and Automated inspections** can ensure **critical defects are not overlooked**, improving product quality and reducing costly failures.\n"
   ]
  },
  {
   "cell_type": "code",
   "execution_count": 23,
   "id": "baf0ebc5",
   "metadata": {
    "execution": {
     "iopub.execute_input": "2025-10-08T06:46:42.017316Z",
     "iopub.status.busy": "2025-10-08T06:46:42.016551Z",
     "iopub.status.idle": "2025-10-08T06:46:42.031925Z",
     "shell.execute_reply": "2025-10-08T06:46:42.031131Z"
    },
    "papermill": {
     "duration": 0.029988,
     "end_time": "2025-10-08T06:46:42.033519",
     "exception": false,
     "start_time": "2025-10-08T06:46:42.003531",
     "status": "completed"
    },
    "tags": []
   },
   "outputs": [],
   "source": [
    "# Export clean data into csv\n",
    "df.to_csv(\"Defects.csv\")"
   ]
  },
  {
   "cell_type": "markdown",
   "id": "0a5f6eed",
   "metadata": {
    "papermill": {
     "duration": 0.011533,
     "end_time": "2025-10-08T06:46:42.057315",
     "exception": false,
     "start_time": "2025-10-08T06:46:42.045782",
     "status": "completed"
    },
    "tags": []
   },
   "source": [
    "## Root Cause & Recommendations\n",
    "\n",
    "### Root Cause Analysis\n",
    "- **Structural defects** are mostly detected via Automated Testing, suggesting potential **design or material issues**.  \n",
    "- **Critical defects** have higher repair costs and often occur internally, indicating a need for **process improvements and early-stage inspections**.  \n",
    "- **Manual Testing** catches the most Critical defects, highlighting its effectiveness for **complex or hard-to-detect issues** that automated systems may miss.  \n",
    "- Peaks in defects during **January and March** may indicate **seasonal or batch-specific factors**, requiring focused quality control during these periods.  \n",
    "- Surface defects are the most frequent, but **Internal defects** may drive higher repair costs, suggesting targeted inspections and preventive measures.\n",
    "\n",
    "### Recommendations\n",
    "1. Prioritize **Automated Testing** for high-risk Structural and Critical defects to reduce human error and increase detection efficiency.  \n",
    "2. Enhance **Manual and Visual inspection protocols** to catch edge-case defects and minor but costly issues.  \n",
    "3. Implement **early-stage inspections** for Internal components to reduce costly repairs and improve reliability.  \n",
    "4. Review **production batches during peak months** to identify and mitigate recurring defects.  \n",
    "5. Use defect data to continuously **monitor trends and improve preventive maintenance**, reducing both frequency and repair cost of defects.\n"
   ]
  },
  {
   "cell_type": "markdown",
   "id": "5f622980",
   "metadata": {
    "papermill": {
     "duration": 0.011826,
     "end_time": "2025-10-08T06:46:42.081228",
     "exception": false,
     "start_time": "2025-10-08T06:46:42.069402",
     "status": "completed"
    },
    "tags": []
   },
   "source": [
    "## Summary\n",
    "\n",
    "| Metric                          | Value                          |\n",
    "|---------------------------------|--------------------------------|\n",
    "| Total Defects                    | 1,000                         |\n",
    "| Unique Products                  | 100                             |\n",
    "| Most Frequent Defect Type        | Structural (352)               |\n",
    "| Defect Type with Highest Avg Cost| Cosmetic (~₹514)               |\n",
    "| Highest Avg Repair Cost by Severity | Minor (~₹514)                |\n",
    "| Inspection Method Catching Most Critical Defects | Manual Testing (119) |\n",
    "| Most Frequent Defect Location    | Surface (353)                  |\n",
    "| Peak Defect Month                | January (191 defects)          |\n"
   ]
  },
  {
   "cell_type": "code",
   "execution_count": null,
   "id": "5711f9dd",
   "metadata": {
    "papermill": {
     "duration": 0.011616,
     "end_time": "2025-10-08T06:46:42.104783",
     "exception": false,
     "start_time": "2025-10-08T06:46:42.093167",
     "status": "completed"
    },
    "tags": []
   },
   "outputs": [],
   "source": []
  }
 ],
 "metadata": {
  "kaggle": {
   "accelerator": "none",
   "dataSources": [
    {
     "databundleVersionId": 8987987,
     "datasetId": 5312391,
     "isSourceIdPinned": false,
     "sourceId": 8829468,
     "sourceType": "datasetVersion"
    }
   ],
   "dockerImageVersionId": 31153,
   "isGpuEnabled": false,
   "isInternetEnabled": true,
   "language": "python",
   "sourceType": "notebook"
  },
  "kernelspec": {
   "display_name": "Python 3",
   "language": "python",
   "name": "python3"
  },
  "language_info": {
   "codemirror_mode": {
    "name": "ipython",
    "version": 3
   },
   "file_extension": ".py",
   "mimetype": "text/x-python",
   "name": "python",
   "nbconvert_exporter": "python",
   "pygments_lexer": "ipython3",
   "version": "3.11.13"
  },
  "papermill": {
   "default_parameters": {},
   "duration": 11.588948,
   "end_time": "2025-10-08T06:46:42.837258",
   "environment_variables": {},
   "exception": null,
   "input_path": "__notebook__.ipynb",
   "output_path": "__notebook__.ipynb",
   "parameters": {},
   "start_time": "2025-10-08T06:46:31.248310",
   "version": "2.6.0"
  }
 },
 "nbformat": 4,
 "nbformat_minor": 5
}
