{
 "cells": [
  {
   "cell_type": "code",
   "execution_count": 1,
   "id": "6f9a1507",
   "metadata": {
    "_cell_guid": "b1076dfc-b9ad-4769-8c92-a6c4dae69d19",
    "_uuid": "8f2839f25d086af736a60e9eeb907d3b93b6e0e5",
    "execution": {
     "iopub.execute_input": "2025-10-11T06:49:58.658763Z",
     "iopub.status.busy": "2025-10-11T06:49:58.658302Z",
     "iopub.status.idle": "2025-10-11T06:50:00.894779Z",
     "shell.execute_reply": "2025-10-11T06:50:00.893245Z"
    },
    "papermill": {
     "duration": 2.244717,
     "end_time": "2025-10-11T06:50:00.896741",
     "exception": false,
     "start_time": "2025-10-11T06:49:58.652024",
     "status": "completed"
    },
    "tags": []
   },
   "outputs": [
    {
     "name": "stdout",
     "output_type": "stream",
     "text": [
      "/kaggle/input/defects-analysis/__results__.html\n",
      "/kaggle/input/defects-analysis/__notebook__.ipynb\n",
      "/kaggle/input/defects-analysis/__output__.json\n",
      "/kaggle/input/defects-analysis/Defects.csv\n",
      "/kaggle/input/defects-analysis/custom.css\n",
      "/kaggle/input/defects-analysis/__results___files/__results___20_1.png\n",
      "/kaggle/input/defects-analysis/__results___files/__results___31_1.png\n",
      "/kaggle/input/defects-analysis/__results___files/__results___26_1.png\n",
      "/kaggle/input/defects-analysis/__results___files/__results___33_1.png\n",
      "/kaggle/input/defects-analysis/__results___files/__results___29_1.png\n",
      "/kaggle/input/defects-analysis/__results___files/__results___24_1.png\n",
      "/kaggle/input/defects-analysis/__results___files/__results___22_1.png\n"
     ]
    }
   ],
   "source": [
    "# This Python 3 environment comes with many helpful analytics libraries installed\n",
    "# It is defined by the kaggle/python Docker image: https://github.com/kaggle/docker-python\n",
    "# For example, here's several helpful packages to load\n",
    "\n",
    "import numpy as np # linear algebra\n",
    "import pandas as pd # data processing, CSV file I/O (e.g. pd.read_csv)\n",
    "\n",
    "# Input data files are available in the read-only \"../input/\" directory\n",
    "# For example, running this (by clicking run or pressing Shift+Enter) will list all files under the input directory\n",
    "\n",
    "import os\n",
    "for dirname, _, filenames in os.walk('/kaggle/input'):\n",
    "    for filename in filenames:\n",
    "        print(os.path.join(dirname, filename))\n",
    "\n",
    "# You can write up to 20GB to the current directory (/kaggle/working/) that gets preserved as output when you create a version using \"Save & Run All\" \n",
    "# You can also write temporary files to /kaggle/temp/, but they won't be saved outside of the current session"
   ]
  },
  {
   "cell_type": "code",
   "execution_count": 2,
   "id": "d60abb84",
   "metadata": {
    "execution": {
     "iopub.execute_input": "2025-10-11T06:50:00.907572Z",
     "iopub.status.busy": "2025-10-11T06:50:00.907030Z",
     "iopub.status.idle": "2025-10-11T06:50:00.993161Z",
     "shell.execute_reply": "2025-10-11T06:50:00.991423Z"
    },
    "papermill": {
     "duration": 0.095548,
     "end_time": "2025-10-11T06:50:00.997150",
     "exception": false,
     "start_time": "2025-10-11T06:50:00.901602",
     "status": "completed"
    },
    "tags": []
   },
   "outputs": [
    {
     "data": {
      "text/html": [
       "<div>\n",
       "<style scoped>\n",
       "    .dataframe tbody tr th:only-of-type {\n",
       "        vertical-align: middle;\n",
       "    }\n",
       "\n",
       "    .dataframe tbody tr th {\n",
       "        vertical-align: top;\n",
       "    }\n",
       "\n",
       "    .dataframe thead th {\n",
       "        text-align: right;\n",
       "    }\n",
       "</style>\n",
       "<table border=\"1\" class=\"dataframe\">\n",
       "  <thead>\n",
       "    <tr style=\"text-align: right;\">\n",
       "      <th></th>\n",
       "      <th>defect_id</th>\n",
       "      <th>product_id</th>\n",
       "      <th>defect_type</th>\n",
       "      <th>defect_date</th>\n",
       "      <th>defect_location</th>\n",
       "      <th>severity</th>\n",
       "      <th>inspection_method</th>\n",
       "      <th>repair_cost</th>\n",
       "      <th>month</th>\n",
       "    </tr>\n",
       "  </thead>\n",
       "  <tbody>\n",
       "    <tr>\n",
       "      <th>0</th>\n",
       "      <td>1</td>\n",
       "      <td>15</td>\n",
       "      <td>Structural</td>\n",
       "      <td>2024-06-06</td>\n",
       "      <td>Component</td>\n",
       "      <td>Minor</td>\n",
       "      <td>Visual Inspection</td>\n",
       "      <td>245.47</td>\n",
       "      <td>June</td>\n",
       "    </tr>\n",
       "    <tr>\n",
       "      <th>1</th>\n",
       "      <td>2</td>\n",
       "      <td>6</td>\n",
       "      <td>Functional</td>\n",
       "      <td>2024-04-26</td>\n",
       "      <td>Component</td>\n",
       "      <td>Minor</td>\n",
       "      <td>Visual Inspection</td>\n",
       "      <td>26.87</td>\n",
       "      <td>April</td>\n",
       "    </tr>\n",
       "    <tr>\n",
       "      <th>2</th>\n",
       "      <td>3</td>\n",
       "      <td>84</td>\n",
       "      <td>Structural</td>\n",
       "      <td>2024-02-15</td>\n",
       "      <td>Internal</td>\n",
       "      <td>Minor</td>\n",
       "      <td>Automated Testing</td>\n",
       "      <td>835.81</td>\n",
       "      <td>February</td>\n",
       "    </tr>\n",
       "    <tr>\n",
       "      <th>3</th>\n",
       "      <td>4</td>\n",
       "      <td>10</td>\n",
       "      <td>Functional</td>\n",
       "      <td>2024-03-28</td>\n",
       "      <td>Internal</td>\n",
       "      <td>Critical</td>\n",
       "      <td>Automated Testing</td>\n",
       "      <td>444.47</td>\n",
       "      <td>March</td>\n",
       "    </tr>\n",
       "    <tr>\n",
       "      <th>4</th>\n",
       "      <td>5</td>\n",
       "      <td>14</td>\n",
       "      <td>Cosmetic</td>\n",
       "      <td>2024-04-26</td>\n",
       "      <td>Component</td>\n",
       "      <td>Minor</td>\n",
       "      <td>Manual Testing</td>\n",
       "      <td>823.64</td>\n",
       "      <td>April</td>\n",
       "    </tr>\n",
       "  </tbody>\n",
       "</table>\n",
       "</div>"
      ],
      "text/plain": [
       "   defect_id  product_id defect_type defect_date defect_location  severity  \\\n",
       "0          1          15  Structural  2024-06-06       Component     Minor   \n",
       "1          2           6  Functional  2024-04-26       Component     Minor   \n",
       "2          3          84  Structural  2024-02-15        Internal     Minor   \n",
       "3          4          10  Functional  2024-03-28        Internal  Critical   \n",
       "4          5          14    Cosmetic  2024-04-26       Component     Minor   \n",
       "\n",
       "   inspection_method  repair_cost     month  \n",
       "0  Visual Inspection       245.47      June  \n",
       "1  Visual Inspection        26.87     April  \n",
       "2  Automated Testing       835.81  February  \n",
       "3  Automated Testing       444.47     March  \n",
       "4     Manual Testing       823.64     April  "
      ]
     },
     "execution_count": 2,
     "metadata": {},
     "output_type": "execute_result"
    }
   ],
   "source": [
    "# Loading the dataset\n",
    "df = pd.read_csv(\"/kaggle/input/defects-analysis/Defects.csv\", parse_dates=['defect_date']).drop(columns='Unnamed: 0')\n",
    "df.head()"
   ]
  },
  {
   "cell_type": "code",
   "execution_count": 3,
   "id": "431a4ead",
   "metadata": {
    "execution": {
     "iopub.execute_input": "2025-10-11T06:50:01.008521Z",
     "iopub.status.busy": "2025-10-11T06:50:01.008174Z",
     "iopub.status.idle": "2025-10-11T06:50:03.606221Z",
     "shell.execute_reply": "2025-10-11T06:50:03.604962Z"
    },
    "papermill": {
     "duration": 2.60554,
     "end_time": "2025-10-11T06:50:03.608058",
     "exception": false,
     "start_time": "2025-10-11T06:50:01.002518",
     "status": "completed"
    },
    "tags": []
   },
   "outputs": [
    {
     "name": "stdout",
     "output_type": "stream",
     "text": [
      "defect_type mapping: {'Cosmetic': 0, 'Functional': 1, 'Structural': 2}\n",
      "defect_location mapping: {'Component': 0, 'Internal': 1, 'Surface': 2}\n",
      "severity mapping: {'Critical': 0, 'Minor': 1, 'Moderate': 2}\n",
      "inspection_method mapping: {'Automated Testing': 0, 'Manual Testing': 1, 'Visual Inspection': 2}\n"
     ]
    }
   ],
   "source": [
    "from sklearn.preprocessing import LabelEncoder\n",
    "X = df.drop(columns=['repair_cost', 'month', 'defect_date', 'product_id', 'defect_id'])\n",
    "y = df['repair_cost']\n",
    "encoders={}\n",
    "\n",
    "for col in X:\n",
    "    encoder = LabelEncoder()\n",
    "    X[col] = encoder.fit_transform(X[col])  \n",
    "    encoders[col] = dict(zip(encoder.classes_, encoder.transform(encoder.classes_)))\n",
    "    print(f'{col} mapping: {encoders[col]}')"
   ]
  },
  {
   "cell_type": "markdown",
   "id": "89bbcba5",
   "metadata": {
    "papermill": {
     "duration": 0.004128,
     "end_time": "2025-10-11T06:50:03.617124",
     "exception": false,
     "start_time": "2025-10-11T06:50:03.612996",
     "status": "completed"
    },
    "tags": []
   },
   "source": [
    "## Label Encoding of Categorical Features\n",
    "\n",
    "The categorical columns in the dataset (`defect_type`, `defect_location`, `severity`, `inspection_method`) were converted into numeric form using **Label Encoding** to make them suitable for machine learning models.\n",
    "\n",
    "### Encoded Mappings\n",
    "\n",
    "- **defect_type**:  \n",
    "  - Cosmetic → 0  \n",
    "  - Functional → 1  \n",
    "  - Structural → 2  \n",
    "\n",
    "- **defect_location**:  \n",
    "  - Component → 0  \n",
    "  - Internal → 1  \n",
    "  - Surface → 2  \n",
    "\n",
    "- **severity**:  \n",
    "  - Critical → 0  \n",
    "  - Minor → 1  \n",
    "  - Moderate → 2  \n",
    "\n",
    "- **inspection_method**:  \n",
    "  - Automated Testing → 0  \n",
    "  - Manual Testing → 1  \n",
    "  - Visual Inspection → 2  \n",
    "\n",
    "> **Note:** The mappings are stored in a dictionary (`encoders`) for reference during predictions or inverse transformation.\n"
   ]
  },
  {
   "cell_type": "code",
   "execution_count": 4,
   "id": "cf2bb71e",
   "metadata": {
    "execution": {
     "iopub.execute_input": "2025-10-11T06:50:03.627968Z",
     "iopub.status.busy": "2025-10-11T06:50:03.627456Z",
     "iopub.status.idle": "2025-10-11T06:50:03.637285Z",
     "shell.execute_reply": "2025-10-11T06:50:03.636272Z"
    },
    "papermill": {
     "duration": 0.017661,
     "end_time": "2025-10-11T06:50:03.639112",
     "exception": false,
     "start_time": "2025-10-11T06:50:03.621451",
     "status": "completed"
    },
    "tags": []
   },
   "outputs": [
    {
     "data": {
      "text/html": [
       "<div>\n",
       "<style scoped>\n",
       "    .dataframe tbody tr th:only-of-type {\n",
       "        vertical-align: middle;\n",
       "    }\n",
       "\n",
       "    .dataframe tbody tr th {\n",
       "        vertical-align: top;\n",
       "    }\n",
       "\n",
       "    .dataframe thead th {\n",
       "        text-align: right;\n",
       "    }\n",
       "</style>\n",
       "<table border=\"1\" class=\"dataframe\">\n",
       "  <thead>\n",
       "    <tr style=\"text-align: right;\">\n",
       "      <th></th>\n",
       "      <th>defect_type</th>\n",
       "      <th>defect_location</th>\n",
       "      <th>severity</th>\n",
       "      <th>inspection_method</th>\n",
       "    </tr>\n",
       "  </thead>\n",
       "  <tbody>\n",
       "    <tr>\n",
       "      <th>0</th>\n",
       "      <td>2</td>\n",
       "      <td>0</td>\n",
       "      <td>1</td>\n",
       "      <td>2</td>\n",
       "    </tr>\n",
       "    <tr>\n",
       "      <th>1</th>\n",
       "      <td>1</td>\n",
       "      <td>0</td>\n",
       "      <td>1</td>\n",
       "      <td>2</td>\n",
       "    </tr>\n",
       "    <tr>\n",
       "      <th>2</th>\n",
       "      <td>2</td>\n",
       "      <td>1</td>\n",
       "      <td>1</td>\n",
       "      <td>0</td>\n",
       "    </tr>\n",
       "    <tr>\n",
       "      <th>3</th>\n",
       "      <td>1</td>\n",
       "      <td>1</td>\n",
       "      <td>0</td>\n",
       "      <td>0</td>\n",
       "    </tr>\n",
       "    <tr>\n",
       "      <th>4</th>\n",
       "      <td>0</td>\n",
       "      <td>0</td>\n",
       "      <td>1</td>\n",
       "      <td>1</td>\n",
       "    </tr>\n",
       "  </tbody>\n",
       "</table>\n",
       "</div>"
      ],
      "text/plain": [
       "   defect_type  defect_location  severity  inspection_method\n",
       "0            2                0         1                  2\n",
       "1            1                0         1                  2\n",
       "2            2                1         1                  0\n",
       "3            1                1         0                  0\n",
       "4            0                0         1                  1"
      ]
     },
     "execution_count": 4,
     "metadata": {},
     "output_type": "execute_result"
    }
   ],
   "source": [
    "# Sample rows \n",
    "X.head()"
   ]
  },
  {
   "cell_type": "code",
   "execution_count": 5,
   "id": "d1a989cd",
   "metadata": {
    "execution": {
     "iopub.execute_input": "2025-10-11T06:50:03.649619Z",
     "iopub.status.busy": "2025-10-11T06:50:03.649249Z",
     "iopub.status.idle": "2025-10-11T06:50:03.656420Z",
     "shell.execute_reply": "2025-10-11T06:50:03.655457Z"
    },
    "papermill": {
     "duration": 0.01434,
     "end_time": "2025-10-11T06:50:03.658124",
     "exception": false,
     "start_time": "2025-10-11T06:50:03.643784",
     "status": "completed"
    },
    "tags": []
   },
   "outputs": [
    {
     "data": {
      "text/plain": [
       "0    245.47\n",
       "1     26.87\n",
       "2    835.81\n",
       "3    444.47\n",
       "4    823.64\n",
       "Name: repair_cost, dtype: float64"
      ]
     },
     "execution_count": 5,
     "metadata": {},
     "output_type": "execute_result"
    }
   ],
   "source": [
    "# Sample rows\n",
    "y.head()"
   ]
  },
  {
   "cell_type": "code",
   "execution_count": 6,
   "id": "b038e73a",
   "metadata": {
    "execution": {
     "iopub.execute_input": "2025-10-11T06:50:03.669809Z",
     "iopub.status.busy": "2025-10-11T06:50:03.669401Z",
     "iopub.status.idle": "2025-10-11T06:50:03.827334Z",
     "shell.execute_reply": "2025-10-11T06:50:03.826282Z"
    },
    "papermill": {
     "duration": 0.166115,
     "end_time": "2025-10-11T06:50:03.829259",
     "exception": false,
     "start_time": "2025-10-11T06:50:03.663144",
     "status": "completed"
    },
    "tags": []
   },
   "outputs": [],
   "source": [
    "from sklearn.model_selection import train_test_split, GridSearchCV\n",
    "\n",
    "x_train, x_test, y_train, y_test = train_test_split(X, y, test_size=0.2, random_state=0)"
   ]
  },
  {
   "cell_type": "markdown",
   "id": "7d69b48b",
   "metadata": {
    "papermill": {
     "duration": 0.004793,
     "end_time": "2025-10-11T06:50:03.839429",
     "exception": false,
     "start_time": "2025-10-11T06:50:03.834636",
     "status": "completed"
    },
    "tags": []
   },
   "source": [
    "## Train-Test Split\n",
    "\n",
    "The dataset was split into training and testing sets to evaluate model performance.  \n",
    "\n",
    "- **Training set:** 80% of the data  \n",
    "- **Testing set:** 20% of the data  \n",
    "- **Random state:** 0 (for reproducibility)  \n",
    "\n",
    "This ensures that the machine learning models can learn patterns from the training data and be evaluated on unseen data (testing set) to measure performance accurately.\n"
   ]
  },
  {
   "cell_type": "code",
   "execution_count": 7,
   "id": "8a1823e3",
   "metadata": {
    "execution": {
     "iopub.execute_input": "2025-10-11T06:50:03.851212Z",
     "iopub.status.busy": "2025-10-11T06:50:03.850268Z",
     "iopub.status.idle": "2025-10-11T06:50:04.032137Z",
     "shell.execute_reply": "2025-10-11T06:50:04.030940Z"
    },
    "papermill": {
     "duration": 0.190015,
     "end_time": "2025-10-11T06:50:04.034192",
     "exception": false,
     "start_time": "2025-10-11T06:50:03.844177",
     "status": "completed"
    },
    "tags": []
   },
   "outputs": [],
   "source": [
    "from sklearn.linear_model import LinearRegression\n",
    "\n",
    "lr_model = LinearRegression()\n",
    "\n",
    "lr_fit = lr_model.fit(x_train, y_train)\n",
    "\n",
    "lr_predict = lr_fit.predict(x_test)"
   ]
  },
  {
   "cell_type": "markdown",
   "id": "e2bfeef1",
   "metadata": {
    "papermill": {
     "duration": 0.004301,
     "end_time": "2025-10-11T06:50:04.043291",
     "exception": false,
     "start_time": "2025-10-11T06:50:04.038990",
     "status": "completed"
    },
    "tags": []
   },
   "source": [
    "## Linear Regression Model\n",
    "\n",
    "A **Linear Regression** model was trained to predict `repair_cost` using the encoded categorical features (`defect_type`, `defect_location`, `severity`, `inspection_method`).\n",
    "\n",
    "- The model was fit on the **training set** (`x_train`, `y_train`).  \n",
    "- Predictions were made on the **testing set** (`x_test`) to evaluate performance.  \n",
    "\n",
    "> Linear Regression assumes a **linear relationship** between features and target. Further evaluation metrics will indicate how well this assumption holds for our dataset.\n"
   ]
  },
  {
   "cell_type": "code",
   "execution_count": 8,
   "id": "3a9103f2",
   "metadata": {
    "execution": {
     "iopub.execute_input": "2025-10-11T06:50:04.053534Z",
     "iopub.status.busy": "2025-10-11T06:50:04.053147Z",
     "iopub.status.idle": "2025-10-11T06:50:04.062714Z",
     "shell.execute_reply": "2025-10-11T06:50:04.061597Z"
    },
    "papermill": {
     "duration": 0.016605,
     "end_time": "2025-10-11T06:50:04.064314",
     "exception": false,
     "start_time": "2025-10-11T06:50:04.047709",
     "status": "completed"
    },
    "tags": []
   },
   "outputs": [
    {
     "name": "stdout",
     "output_type": "stream",
     "text": [
      "Mean Absolute Error: 258.8921654187944\n",
      "Mean Squared Error: 88639.95181384236\n",
      "Root Mean Squared Error: 297.72462413082724\n",
      "R2 Score: -0.004463151391963072\n"
     ]
    }
   ],
   "source": [
    "from sklearn.metrics import mean_absolute_error, mean_squared_error, r2_score\n",
    "\n",
    "mae = mean_absolute_error(y_test, lr_predict)\n",
    "mse = mean_squared_error(y_test, lr_predict)\n",
    "r2score = r2_score(y_test, lr_predict)\n",
    "rmse = np.sqrt(mse)\n",
    "print(\"Mean Absolute Error:\", mae)\n",
    "print(\"Mean Squared Error:\", mse)\n",
    "print(\"Root Mean Squared Error:\", rmse)\n",
    "print(\"R2 Score:\", r2score)"
   ]
  },
  {
   "cell_type": "markdown",
   "id": "1dc75092",
   "metadata": {
    "papermill": {
     "duration": 0.004375,
     "end_time": "2025-10-11T06:50:04.073443",
     "exception": false,
     "start_time": "2025-10-11T06:50:04.069068",
     "status": "completed"
    },
    "tags": []
   },
   "source": [
    "## Linear Regression Model Evaluation\n",
    "\n",
    "The Linear Regression model was evaluated on the test set using standard regression metrics:\n",
    "\n",
    "- **Mean Absolute Error (MAE):** 258.89  \n",
    "  - On average, predictions are off by about ₹259.\n",
    "\n",
    "- **Mean Squared Error (MSE):** 88,639.95  \n",
    "  - Measures squared differences between predicted and actual values; higher values indicate larger errors.\n",
    "\n",
    "- **Root Mean Squared Error (RMSE):** 297.72  \n",
    "  - Typical magnitude of prediction error, in ₹.\n",
    "\n",
    "- **R² Score:** -0.004  \n",
    "  - Indicates the model explains almost none of the variance in repair costs.  \n",
    "  - A negative R² suggests the model performs **worse than predicting the mean**.\n",
    "\n",
    "**Key Insight:**  \n",
    "- The low R² and high MAE indicate that the Linear Regression model is **not capturing the patterns in the data well**, likely due to the **small dataset (~1000 rows)** and mostly categorical features.\n"
   ]
  },
  {
   "cell_type": "code",
   "execution_count": 9,
   "id": "e3db1450",
   "metadata": {
    "execution": {
     "iopub.execute_input": "2025-10-11T06:50:04.083666Z",
     "iopub.status.busy": "2025-10-11T06:50:04.083316Z",
     "iopub.status.idle": "2025-10-11T06:51:04.844908Z",
     "shell.execute_reply": "2025-10-11T06:51:04.843913Z"
    },
    "papermill": {
     "duration": 60.768702,
     "end_time": "2025-10-11T06:51:04.846549",
     "exception": false,
     "start_time": "2025-10-11T06:50:04.077847",
     "status": "completed"
    },
    "tags": []
   },
   "outputs": [],
   "source": [
    "from sklearn.ensemble import RandomForestRegressor\n",
    "\n",
    "rf_model = RandomForestRegressor(random_state=42)\n",
    "\n",
    "param_grid_rf = {\n",
    "    'n_estimators': [100, 200, 300],        # number of trees\n",
    "    'max_depth': [None, 5, 10, 20],         # depth of trees\n",
    "    'min_samples_split': [2, 5, 10],        # minimum samples to split a node\n",
    "    'min_samples_leaf': [1, 2, 4]           # minimum samples in leaf node\n",
    "}\n",
    "\n",
    "grid = GridSearchCV(rf_model, cv=2, param_grid=param_grid_rf) \n",
    "\n",
    "rf_fit = grid.fit(x_train, y_train)\n",
    "\n",
    "best_param = grid.best_estimator_\n",
    "\n",
    "rf_predict = best_param.predict(x_test)"
   ]
  },
  {
   "cell_type": "markdown",
   "id": "975bf36f",
   "metadata": {
    "papermill": {
     "duration": 0.004317,
     "end_time": "2025-10-11T06:51:04.855495",
     "exception": false,
     "start_time": "2025-10-11T06:51:04.851178",
     "status": "completed"
    },
    "tags": []
   },
   "source": [
    "## Random Forest Regressor\n",
    "\n",
    "A **Random Forest Regressor** was trained to predict `repair_cost` using the encoded categorical features.\n",
    "\n",
    "- **Parameter Tuning:**  \n",
    "  - `n_estimators`: [100, 200, 300] → number of trees in the forest  \n",
    "  - `max_depth`: [None, 5, 10, 20] → maximum depth of each tree  \n",
    "  - `min_samples_split`: [2, 5, 10] → minimum samples required to split a node  \n",
    "  - `min_samples_leaf`: [1, 2, 4] → minimum samples in a leaf node  \n",
    "\n",
    "- **Grid Search with 2-fold cross-validation** was used to find the best hyperparameters.  \n",
    "\n",
    "- **Best Estimator:** `best_param` contains the model with the optimal combination of hyperparameters.  \n",
    "- Predictions were made on the **test set** (`x_test`) using this best estimator.  \n",
    "\n",
    "> Random Forest handles non-linear relationships better than Linear Regression and can automatically capture interactions between categorical features.\n"
   ]
  },
  {
   "cell_type": "code",
   "execution_count": 10,
   "id": "fae9ed58",
   "metadata": {
    "execution": {
     "iopub.execute_input": "2025-10-11T06:51:04.867142Z",
     "iopub.status.busy": "2025-10-11T06:51:04.866757Z",
     "iopub.status.idle": "2025-10-11T06:51:04.876203Z",
     "shell.execute_reply": "2025-10-11T06:51:04.874932Z"
    },
    "papermill": {
     "duration": 0.017196,
     "end_time": "2025-10-11T06:51:04.877933",
     "exception": false,
     "start_time": "2025-10-11T06:51:04.860737",
     "status": "completed"
    },
    "tags": []
   },
   "outputs": [
    {
     "name": "stdout",
     "output_type": "stream",
     "text": [
      "Mean Absolute Error: 260.7738702424493\n",
      "Mean Squared Error: 91584.58449236758\n",
      "Root Mean Squared Error: 302.6294508014175\n",
      "R2 Score: -0.037831570027557326\n"
     ]
    }
   ],
   "source": [
    "rf_mae = mean_absolute_error(y_test, rf_predict)\n",
    "rf_mse = mean_squared_error(y_test, rf_predict)\n",
    "rf_r2score = r2_score(y_test, rf_predict)\n",
    "rf_rmse = np.sqrt(rf_mse)\n",
    "print(\"Mean Absolute Error:\", rf_mae)\n",
    "print(\"Mean Squared Error:\", rf_mse)\n",
    "print(\"Root Mean Squared Error:\", rf_rmse)\n",
    "print(\"R2 Score:\", rf_r2score)"
   ]
  },
  {
   "cell_type": "markdown",
   "id": "0eeb586d",
   "metadata": {
    "papermill": {
     "duration": 0.004235,
     "end_time": "2025-10-11T06:51:04.886753",
     "exception": false,
     "start_time": "2025-10-11T06:51:04.882518",
     "status": "completed"
    },
    "tags": []
   },
   "source": [
    "## Random Forest Model Evaluation\n",
    "\n",
    "The Random Forest model was evaluated on the test set using standard regression metrics:\n",
    "\n",
    "- **Mean Absolute Error (MAE):** 260.77  \n",
    "  - On average, predictions are off by about ₹261.\n",
    "\n",
    "- **Mean Squared Error (MSE):** 91,584.58  \n",
    "  - Measures squared differences between predicted and actual values; higher values indicate larger errors.\n",
    "\n",
    "- **Root Mean Squared Error (RMSE):** 302.63  \n",
    "  - Typical magnitude of prediction error, in ₹.\n",
    "\n",
    "- **R² Score:** -0.038  \n",
    "  - Indicates the model explains almost none of the variance in repair costs.  \n",
    "  - Negative R² suggests the model performs worse than simply predicting the mean.\n",
    "\n",
    "**Key Insight:**  \n",
    "- Similar to Linear Regression, the Random Forest model is **not significantly improving predictions** due to the **small dataset (~1000 rows)** and mostly categorical features.  \n",
    "- Feature engineering or additional data may be needed to enhance performance.\n"
   ]
  },
  {
   "cell_type": "code",
   "execution_count": 11,
   "id": "35c52c3b",
   "metadata": {
    "execution": {
     "iopub.execute_input": "2025-10-11T06:51:04.897137Z",
     "iopub.status.busy": "2025-10-11T06:51:04.896747Z",
     "iopub.status.idle": "2025-10-11T06:51:04.966261Z",
     "shell.execute_reply": "2025-10-11T06:51:04.965295Z"
    },
    "papermill": {
     "duration": 0.076838,
     "end_time": "2025-10-11T06:51:04.968011",
     "exception": false,
     "start_time": "2025-10-11T06:51:04.891173",
     "status": "completed"
    },
    "tags": []
   },
   "outputs": [],
   "source": [
    "from sklearn.ensemble import GradientBoostingRegressor\n",
    "\n",
    "gr_model = GradientBoostingRegressor(random_state=0)\n",
    "gr_fit = gr_model.fit(x_train, y_train)\n",
    "gr_predict = gr_fit.predict(x_test)"
   ]
  },
  {
   "cell_type": "markdown",
   "id": "32964b94",
   "metadata": {
    "papermill": {
     "duration": 0.00422,
     "end_time": "2025-10-11T06:51:04.976873",
     "exception": false,
     "start_time": "2025-10-11T06:51:04.972653",
     "status": "completed"
    },
    "tags": []
   },
   "source": [
    "## Gradient Boosting Regressor\n",
    "\n",
    "A **Gradient Boosting Regressor** was trained to predict `repair_cost` using the encoded categorical features.\n",
    "\n",
    "- Gradient Boosting builds an ensemble of **sequential decision trees**, where each tree tries to correct the errors of the previous one.  \n",
    "- The model was trained on the **training set** (`x_train`, `y_train`) and used to predict repair costs on the **test set** (`x_test`).  \n",
    "\n",
    "> Gradient Boosting is generally effective for small to medium datasets and can handle non-linear relationships and interactions between features better than Linear Regression.\n"
   ]
  },
  {
   "cell_type": "code",
   "execution_count": 12,
   "id": "e3f7c734",
   "metadata": {
    "execution": {
     "iopub.execute_input": "2025-10-11T06:51:04.987132Z",
     "iopub.status.busy": "2025-10-11T06:51:04.986763Z",
     "iopub.status.idle": "2025-10-11T06:51:04.995322Z",
     "shell.execute_reply": "2025-10-11T06:51:04.994192Z"
    },
    "papermill": {
     "duration": 0.0159,
     "end_time": "2025-10-11T06:51:04.997195",
     "exception": false,
     "start_time": "2025-10-11T06:51:04.981295",
     "status": "completed"
    },
    "tags": []
   },
   "outputs": [
    {
     "name": "stdout",
     "output_type": "stream",
     "text": [
      "Mean Absolute Error: 259.743447217093\n",
      "Mean Squared Error: 91390.38855205402\n",
      "Root Mean Squared Error: 297.72462413082724\n",
      "R2 Score: -0.035630952109752645\n"
     ]
    }
   ],
   "source": [
    "gr_mae = mean_absolute_error(y_test, gr_predict)\n",
    "gr_mse = mean_squared_error(y_test, gr_predict)\n",
    "gr_r2score = r2_score(y_test, gr_predict)\n",
    "gr_rmse = np.sqrt(mse)\n",
    "print(\"Mean Absolute Error:\", gr_mae)\n",
    "print(\"Mean Squared Error:\", gr_mse)\n",
    "print(\"Root Mean Squared Error:\", gr_rmse)\n",
    "print(\"R2 Score:\", gr_r2score)"
   ]
  },
  {
   "cell_type": "markdown",
   "id": "5d08b6f0",
   "metadata": {
    "papermill": {
     "duration": 0.005253,
     "end_time": "2025-10-11T06:51:05.008032",
     "exception": false,
     "start_time": "2025-10-11T06:51:05.002779",
     "status": "completed"
    },
    "tags": []
   },
   "source": [
    "## Gradient Boosting Model Evaluation\n",
    "\n",
    "The Gradient Boosting model was evaluated on the test set using standard regression metrics:\n",
    "\n",
    "- **Mean Absolute Error (MAE):** 259.74  \n",
    "  - On average, predictions are off by about ₹260.\n",
    "\n",
    "- **Mean Squared Error (MSE):** 91,390.39  \n",
    "  - Measures squared differences between predicted and actual values.\n",
    "\n",
    "- **Root Mean Squared Error (RMSE):** 297.72  \n",
    "  - Typical magnitude of prediction error, in ₹.\n",
    "\n",
    "- **R² Score:** -0.036  \n",
    "  - Indicates the model explains almost none of the variance in repair costs.  \n",
    "  - Negative R² suggests the model performs worse than predicting the mean.\n",
    "\n",
    "**Key Insight:**  \n",
    "- Similar to Linear Regression and Random Forest, Gradient Boosting **does not significantly improve predictions** due to the **small dataset (~1000**\n"
   ]
  },
  {
   "cell_type": "markdown",
   "id": "fae58b18",
   "metadata": {
    "papermill": {
     "duration": 0.004577,
     "end_time": "2025-10-11T06:51:05.017753",
     "exception": false,
     "start_time": "2025-10-11T06:51:05.013176",
     "status": "completed"
    },
    "tags": []
   },
   "source": [
    "## Final Comparison\n",
    "| Model                       |   MAE  |  RMSE  | R² Score | Observation                          |\n",
    "| :-------------------------- | :----: | :----: | :------: | :----------------------------------- |\n",
    "| Linear Regression           | 258.89 | 297.72 |  -0.004  | Baseline model, low performance      |\n",
    "| Random Forest Regressor     | 260.77 | 302.62 |  -0.037  | Slightly worse, small dataset impact |\n",
    "| Gradient Boosting Regressor | 259.74 | 297.72 |  -0.035  | Stable results, similar trend        |\n"
   ]
  },
  {
   "cell_type": "code",
   "execution_count": null,
   "id": "dc3da96f",
   "metadata": {
    "papermill": {
     "duration": 0.004753,
     "end_time": "2025-10-11T06:51:05.027219",
     "exception": false,
     "start_time": "2025-10-11T06:51:05.022466",
     "status": "completed"
    },
    "tags": []
   },
   "outputs": [],
   "source": []
  }
 ],
 "metadata": {
  "kaggle": {
   "accelerator": "none",
   "dataSources": [
    {
     "sourceId": 266512231,
     "sourceType": "kernelVersion"
    }
   ],
   "dockerImageVersionId": 31153,
   "isGpuEnabled": false,
   "isInternetEnabled": true,
   "language": "python",
   "sourceType": "notebook"
  },
  "kernelspec": {
   "display_name": "Python 3",
   "language": "python",
   "name": "python3"
  },
  "language_info": {
   "codemirror_mode": {
    "name": "ipython",
    "version": 3
   },
   "file_extension": ".py",
   "mimetype": "text/x-python",
   "name": "python",
   "nbconvert_exporter": "python",
   "pygments_lexer": "ipython3",
   "version": "3.11.13"
  },
  "papermill": {
   "default_parameters": {},
   "duration": 72.709458,
   "end_time": "2025-10-11T06:51:05.754164",
   "environment_variables": {},
   "exception": null,
   "input_path": "__notebook__.ipynb",
   "output_path": "__notebook__.ipynb",
   "parameters": {},
   "start_time": "2025-10-11T06:49:53.044706",
   "version": "2.6.0"
  }
 },
 "nbformat": 4,
 "nbformat_minor": 5
}
